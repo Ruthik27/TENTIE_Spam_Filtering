{
 "cells": [
  {
   "cell_type": "markdown",
   "id": "c504c527",
   "metadata": {},
   "source": []
  },
  {
   "cell_type": "code",
   "execution_count": 30,
   "id": "42329bc5",
   "metadata": {},
   "outputs": [
    {
     "name": "stdout",
     "output_type": "stream",
     "text": [
      "Collecting tensorflow\n",
      "  Downloading tensorflow-2.10.0-cp39-cp39-win_amd64.whl (455.9 MB)\n",
      "Collecting astunparse>=1.6.0\n",
      "  Downloading astunparse-1.6.3-py2.py3-none-any.whl (12 kB)\n",
      "Collecting gast<=0.4.0,>=0.2.1\n",
      "  Downloading gast-0.4.0-py3-none-any.whl (9.8 kB)\n",
      "Collecting google-pasta>=0.1.1\n",
      "  Downloading google_pasta-0.2.0-py3-none-any.whl (57 kB)\n",
      "Collecting libclang>=13.0.0\n",
      "  Downloading libclang-14.0.6-py2.py3-none-win_amd64.whl (14.2 MB)\n",
      "Collecting tensorflow-io-gcs-filesystem>=0.23.1\n",
      "  Downloading tensorflow_io_gcs_filesystem-0.27.0-cp39-cp39-win_amd64.whl (1.5 MB)\n",
      "Collecting keras<2.11,>=2.10.0\n",
      "  Downloading keras-2.10.0-py2.py3-none-any.whl (1.7 MB)\n",
      "Collecting absl-py>=1.0.0\n",
      "  Downloading absl_py-1.2.0-py3-none-any.whl (123 kB)\n",
      "Collecting grpcio<2.0,>=1.24.3\n",
      "  Downloading grpcio-1.48.1-cp39-cp39-win_amd64.whl (3.6 MB)\n",
      "Requirement already satisfied: six>=1.12.0 in c:\\users\\rkgod\\anaconda3\\lib\\site-packages (from tensorflow) (1.16.0)\n",
      "Requirement already satisfied: wrapt>=1.11.0 in c:\\users\\rkgod\\anaconda3\\lib\\site-packages (from tensorflow) (1.12.1)\n",
      "Requirement already satisfied: h5py>=2.9.0 in c:\\users\\rkgod\\anaconda3\\lib\\site-packages (from tensorflow) (3.2.1)\n",
      "Collecting tensorflow-estimator<2.11,>=2.10.0\n",
      "  Downloading tensorflow_estimator-2.10.0-py2.py3-none-any.whl (438 kB)\n",
      "Requirement already satisfied: typing-extensions>=3.6.6 in c:\\users\\rkgod\\anaconda3\\lib\\site-packages (from tensorflow) (3.10.0.2)\n",
      "Collecting keras-preprocessing>=1.1.1\n",
      "  Downloading Keras_Preprocessing-1.1.2-py2.py3-none-any.whl (42 kB)\n",
      "Collecting termcolor>=1.1.0\n",
      "  Downloading termcolor-2.0.1-py3-none-any.whl (5.4 kB)\n",
      "Requirement already satisfied: packaging in c:\\users\\rkgod\\anaconda3\\lib\\site-packages (from tensorflow) (21.0)\n",
      "Collecting opt-einsum>=2.3.2\n",
      "  Downloading opt_einsum-3.3.0-py3-none-any.whl (65 kB)\n",
      "Requirement already satisfied: setuptools in c:\\users\\rkgod\\anaconda3\\lib\\site-packages (from tensorflow) (58.0.4)\n",
      "Requirement already satisfied: numpy>=1.20 in c:\\users\\rkgod\\anaconda3\\lib\\site-packages (from tensorflow) (1.20.3)\n",
      "Collecting protobuf<3.20,>=3.9.2\n",
      "  Downloading protobuf-3.19.5-cp39-cp39-win_amd64.whl (895 kB)\n",
      "Collecting tensorboard<2.11,>=2.10\n",
      "  Downloading tensorboard-2.10.0-py3-none-any.whl (5.9 MB)\n",
      "Collecting flatbuffers>=2.0\n",
      "  Downloading flatbuffers-2.0.7-py2.py3-none-any.whl (26 kB)\n",
      "Requirement already satisfied: wheel<1.0,>=0.23.0 in c:\\users\\rkgod\\anaconda3\\lib\\site-packages (from astunparse>=1.6.0->tensorflow) (0.37.0)\n",
      "Requirement already satisfied: werkzeug>=1.0.1 in c:\\users\\rkgod\\anaconda3\\lib\\site-packages (from tensorboard<2.11,>=2.10->tensorflow) (2.0.2)\n",
      "Collecting google-auth<3,>=1.6.3\n",
      "  Downloading google_auth-2.11.0-py2.py3-none-any.whl (167 kB)\n",
      "Collecting google-auth-oauthlib<0.5,>=0.4.1\n",
      "  Downloading google_auth_oauthlib-0.4.6-py2.py3-none-any.whl (18 kB)\n",
      "Collecting tensorboard-plugin-wit>=1.6.0\n",
      "  Downloading tensorboard_plugin_wit-1.8.1-py3-none-any.whl (781 kB)\n",
      "Collecting tensorboard-data-server<0.7.0,>=0.6.0\n",
      "  Downloading tensorboard_data_server-0.6.1-py3-none-any.whl (2.4 kB)\n",
      "Collecting markdown>=2.6.8\n",
      "  Downloading Markdown-3.4.1-py3-none-any.whl (93 kB)\n",
      "Requirement already satisfied: requests<3,>=2.21.0 in c:\\users\\rkgod\\anaconda3\\lib\\site-packages (from tensorboard<2.11,>=2.10->tensorflow) (2.26.0)\n",
      "Collecting pyasn1-modules>=0.2.1\n",
      "  Using cached pyasn1_modules-0.2.8-py2.py3-none-any.whl (155 kB)\n",
      "Collecting rsa<5,>=3.1.4\n",
      "  Downloading rsa-4.9-py3-none-any.whl (34 kB)\n",
      "Collecting cachetools<6.0,>=2.0.0\n",
      "  Downloading cachetools-5.2.0-py3-none-any.whl (9.3 kB)\n",
      "Collecting requests-oauthlib>=0.7.0\n",
      "  Downloading requests_oauthlib-1.3.1-py2.py3-none-any.whl (23 kB)\n",
      "Requirement already satisfied: importlib-metadata>=4.4 in c:\\users\\rkgod\\anaconda3\\lib\\site-packages (from markdown>=2.6.8->tensorboard<2.11,>=2.10->tensorflow) (4.8.1)\n",
      "Requirement already satisfied: zipp>=0.5 in c:\\users\\rkgod\\anaconda3\\lib\\site-packages (from importlib-metadata>=4.4->markdown>=2.6.8->tensorboard<2.11,>=2.10->tensorflow) (3.6.0)\n",
      "Collecting pyasn1<0.5.0,>=0.4.6\n",
      "  Using cached pyasn1-0.4.8-py2.py3-none-any.whl (77 kB)\n",
      "Requirement already satisfied: certifi>=2017.4.17 in c:\\users\\rkgod\\anaconda3\\lib\\site-packages (from requests<3,>=2.21.0->tensorboard<2.11,>=2.10->tensorflow) (2021.10.8)\n",
      "Requirement already satisfied: idna<4,>=2.5 in c:\\users\\rkgod\\anaconda3\\lib\\site-packages (from requests<3,>=2.21.0->tensorboard<2.11,>=2.10->tensorflow) (3.2)\n",
      "Requirement already satisfied: urllib3<1.27,>=1.21.1 in c:\\users\\rkgod\\anaconda3\\lib\\site-packages (from requests<3,>=2.21.0->tensorboard<2.11,>=2.10->tensorflow) (1.26.7)\n",
      "Requirement already satisfied: charset-normalizer~=2.0.0 in c:\\users\\rkgod\\anaconda3\\lib\\site-packages (from requests<3,>=2.21.0->tensorboard<2.11,>=2.10->tensorflow) (2.0.4)\n",
      "Collecting oauthlib>=3.0.0\n",
      "  Downloading oauthlib-3.2.1-py3-none-any.whl (151 kB)\n",
      "Requirement already satisfied: pyparsing>=2.0.2 in c:\\users\\rkgod\\anaconda3\\lib\\site-packages (from packaging->tensorflow) (3.0.4)\n",
      "Installing collected packages: pyasn1, rsa, pyasn1-modules, oauthlib, cachetools, requests-oauthlib, google-auth, tensorboard-plugin-wit, tensorboard-data-server, protobuf, markdown, grpcio, google-auth-oauthlib, absl-py, termcolor, tensorflow-io-gcs-filesystem, tensorflow-estimator, tensorboard, opt-einsum, libclang, keras-preprocessing, keras, google-pasta, gast, flatbuffers, astunparse, tensorflow\n",
      "Successfully installed absl-py-1.2.0 astunparse-1.6.3 cachetools-5.2.0 flatbuffers-2.0.7 gast-0.4.0 google-auth-2.11.0 google-auth-oauthlib-0.4.6 google-pasta-0.2.0 grpcio-1.48.1 keras-2.10.0 keras-preprocessing-1.1.2 libclang-14.0.6 markdown-3.4.1 oauthlib-3.2.1 opt-einsum-3.3.0 protobuf-3.19.5 pyasn1-0.4.8 pyasn1-modules-0.2.8 requests-oauthlib-1.3.1 rsa-4.9 tensorboard-2.10.0 tensorboard-data-server-0.6.1 tensorboard-plugin-wit-1.8.1 tensorflow-2.10.0 tensorflow-estimator-2.10.0 tensorflow-io-gcs-filesystem-0.27.0 termcolor-2.0.1\n",
      "Collecting tensorflow\n",
      "  Downloading tensorflow-2.10.0-cp39-cp39-win_amd64.whl (455.9 MB)\n",
      "Requirement already satisfied: wrapt>=1.11.0 in c:\\users\\rkgod\\anaconda3\\lib\\site-packages (from tensorflow) (1.12.1)\n",
      "Collecting libclang>=13.0.0\n",
      "  Using cached libclang-14.0.6-py2.py3-none-win_amd64.whl (14.2 MB)\n",
      "Requirement already satisfied: packaging in c:\\users\\rkgod\\anaconda3\\lib\\site-packages (from tensorflow) (21.0)\n",
      "Collecting flatbuffers>=2.0\n",
      "  Using cached flatbuffers-2.0.7-py2.py3-none-any.whl (26 kB)\n",
      "Collecting astunparse>=1.6.0\n",
      "  Using cached astunparse-1.6.3-py2.py3-none-any.whl (12 kB)\n",
      "Requirement already satisfied: setuptools in c:\\users\\rkgod\\anaconda3\\lib\\site-packages (from tensorflow) (58.0.4)\n",
      "Collecting grpcio<2.0,>=1.24.3\n",
      "  Using cached grpcio-1.48.1-cp39-cp39-win_amd64.whl (3.6 MB)\n",
      "Collecting keras<2.11,>=2.10.0\n",
      "  Using cached keras-2.10.0-py2.py3-none-any.whl (1.7 MB)\n",
      "Collecting tensorboard<2.11,>=2.10\n",
      "  Using cached tensorboard-2.10.0-py3-none-any.whl (5.9 MB)\n",
      "Requirement already satisfied: typing-extensions>=3.6.6 in c:\\users\\rkgod\\anaconda3\\lib\\site-packages (from tensorflow) (3.10.0.2)\n",
      "Collecting keras-preprocessing>=1.1.1\n",
      "  Using cached Keras_Preprocessing-1.1.2-py2.py3-none-any.whl (42 kB)\n",
      "Requirement already satisfied: h5py>=2.9.0 in c:\\users\\rkgod\\anaconda3\\lib\\site-packages (from tensorflow) (3.2.1)\n",
      "Collecting opt-einsum>=2.3.2\n",
      "  Using cached opt_einsum-3.3.0-py3-none-any.whl (65 kB)\n",
      "Collecting tensorflow-io-gcs-filesystem>=0.23.1\n",
      "  Using cached tensorflow_io_gcs_filesystem-0.27.0-cp39-cp39-win_amd64.whl (1.5 MB)\n",
      "Collecting protobuf<3.20,>=3.9.2\n",
      "  Using cached protobuf-3.19.5-cp39-cp39-win_amd64.whl (895 kB)\n",
      "Collecting tensorflow-estimator<2.11,>=2.10.0\n",
      "  Using cached tensorflow_estimator-2.10.0-py2.py3-none-any.whl (438 kB)\n",
      "Collecting gast<=0.4.0,>=0.2.1\n",
      "  Using cached gast-0.4.0-py3-none-any.whl (9.8 kB)\n",
      "Requirement already satisfied: numpy>=1.20 in c:\\users\\rkgod\\anaconda3\\lib\\site-packages (from tensorflow) (1.20.3)\n",
      "Requirement already satisfied: six>=1.12.0 in c:\\users\\rkgod\\anaconda3\\lib\\site-packages (from tensorflow) (1.16.0)\n",
      "Collecting google-pasta>=0.1.1\n",
      "  Using cached google_pasta-0.2.0-py3-none-any.whl (57 kB)\n",
      "Collecting termcolor>=1.1.0\n",
      "  Using cached termcolor-2.0.1-py3-none-any.whl (5.4 kB)\n",
      "Collecting absl-py>=1.0.0\n",
      "  Using cached absl_py-1.2.0-py3-none-any.whl (123 kB)\n",
      "Requirement already satisfied: wheel<1.0,>=0.23.0 in c:\\users\\rkgod\\anaconda3\\lib\\site-packages (from astunparse>=1.6.0->tensorflow) (0.37.0)\n",
      "Collecting google-auth<3,>=1.6.3\n",
      "  Using cached google_auth-2.11.0-py2.py3-none-any.whl (167 kB)\n",
      "Requirement already satisfied: werkzeug>=1.0.1 in c:\\users\\rkgod\\anaconda3\\lib\\site-packages (from tensorboard<2.11,>=2.10->tensorflow) (2.0.2)\n",
      "Collecting tensorboard-data-server<0.7.0,>=0.6.0\n",
      "  Using cached tensorboard_data_server-0.6.1-py3-none-any.whl (2.4 kB)\n",
      "Collecting markdown>=2.6.8\n",
      "  Using cached Markdown-3.4.1-py3-none-any.whl (93 kB)\n",
      "Requirement already satisfied: requests<3,>=2.21.0 in c:\\users\\rkgod\\anaconda3\\lib\\site-packages (from tensorboard<2.11,>=2.10->tensorflow) (2.26.0)\n",
      "Collecting tensorboard-plugin-wit>=1.6.0\n",
      "  Using cached tensorboard_plugin_wit-1.8.1-py3-none-any.whl (781 kB)\n",
      "Collecting google-auth-oauthlib<0.5,>=0.4.1\n",
      "  Using cached google_auth_oauthlib-0.4.6-py2.py3-none-any.whl (18 kB)\n",
      "Collecting rsa<5,>=3.1.4\n",
      "  Using cached rsa-4.9-py3-none-any.whl (34 kB)\n",
      "Collecting pyasn1-modules>=0.2.1\n",
      "  Using cached pyasn1_modules-0.2.8-py2.py3-none-any.whl (155 kB)\n",
      "Collecting cachetools<6.0,>=2.0.0\n",
      "  Using cached cachetools-5.2.0-py3-none-any.whl (9.3 kB)\n",
      "Collecting requests-oauthlib>=0.7.0\n",
      "  Using cached requests_oauthlib-1.3.1-py2.py3-none-any.whl (23 kB)\n",
      "Requirement already satisfied: importlib-metadata>=4.4 in c:\\users\\rkgod\\anaconda3\\lib\\site-packages (from markdown>=2.6.8->tensorboard<2.11,>=2.10->tensorflow) (4.8.1)\n",
      "Requirement already satisfied: zipp>=0.5 in c:\\users\\rkgod\\anaconda3\\lib\\site-packages (from importlib-metadata>=4.4->markdown>=2.6.8->tensorboard<2.11,>=2.10->tensorflow) (3.6.0)\n",
      "Collecting pyasn1<0.5.0,>=0.4.6\n",
      "  Using cached pyasn1-0.4.8-py2.py3-none-any.whl (77 kB)\n",
      "Requirement already satisfied: charset-normalizer~=2.0.0 in c:\\users\\rkgod\\anaconda3\\lib\\site-packages (from requests<3,>=2.21.0->tensorboard<2.11,>=2.10->tensorflow) (2.0.4)\n",
      "Requirement already satisfied: urllib3<1.27,>=1.21.1 in c:\\users\\rkgod\\anaconda3\\lib\\site-packages (from requests<3,>=2.21.0->tensorboard<2.11,>=2.10->tensorflow) (1.26.7)\n",
      "Requirement already satisfied: certifi>=2017.4.17 in c:\\users\\rkgod\\anaconda3\\lib\\site-packages (from requests<3,>=2.21.0->tensorboard<2.11,>=2.10->tensorflow) (2021.10.8)\n",
      "Requirement already satisfied: idna<4,>=2.5 in c:\\users\\rkgod\\anaconda3\\lib\\site-packages (from requests<3,>=2.21.0->tensorboard<2.11,>=2.10->tensorflow) (3.2)\n",
      "Collecting oauthlib>=3.0.0\n",
      "  Using cached oauthlib-3.2.1-py3-none-any.whl (151 kB)\n",
      "Requirement already satisfied: pyparsing>=2.0.2 in c:\\users\\rkgod\\anaconda3\\lib\\site-packages (from packaging->tensorflow) (3.0.4)\n",
      "Installing collected packages: pyasn1, rsa, pyasn1-modules, oauthlib, cachetools, requests-oauthlib, google-auth, tensorboard-plugin-wit, tensorboard-data-server, protobuf, markdown, grpcio, google-auth-oauthlib, absl-py, termcolor, tensorflow-io-gcs-filesystem, tensorflow-estimator, tensorboard, opt-einsum, libclang, keras-preprocessing, keras, google-pasta, gast, flatbuffers, astunparse, tensorflow\n",
      "Successfully installed absl-py-1.2.0 astunparse-1.6.3 cachetools-5.2.0 flatbuffers-2.0.7 gast-0.4.0 google-auth-2.11.0 google-auth-oauthlib-0.4.6 google-pasta-0.2.0 grpcio-1.48.1 keras-2.10.0 keras-preprocessing-1.1.2 libclang-14.0.6 markdown-3.4.1 oauthlib-3.2.1 opt-einsum-3.3.0 protobuf-3.19.5 pyasn1-0.4.8 pyasn1-modules-0.2.8 requests-oauthlib-1.3.1 rsa-4.9 tensorboard-2.10.0 tensorboard-data-server-0.6.1 tensorboard-plugin-wit-1.8.1 tensorflow-2.10.0 tensorflow-estimator-2.10.0 tensorflow-io-gcs-filesystem-0.27.0 termcolor-2.0.1\n",
      "Note: you may need to restart the kernel to use updated packages.\n"
     ]
    }
   ],
   "source": [
    "pip install tensorflow"
   ]
  },
  {
   "cell_type": "markdown",
   "id": "17d0b207",
   "metadata": {},
   "source": [
    "## Process Data"
   ]
  },
  {
   "cell_type": "code",
   "execution_count": 1,
   "id": "08325626",
   "metadata": {
    "scrolled": true
   },
   "outputs": [
    {
     "name": "stderr",
     "output_type": "stream",
     "text": [
      "[nltk_data] Downloading package wordnet to\n",
      "[nltk_data]     C:\\Users\\RKGOD\\AppData\\Roaming\\nltk_data...\n",
      "[nltk_data]   Package wordnet is already up-to-date!\n"
     ]
    }
   ],
   "source": [
    "import numpy as np\n",
    "import glob\n",
    "from sklearn.model_selection import train_test_split\n",
    "import email\n",
    "import re\n",
    "import nltk\n",
    "nltk.download('wordnet')\n",
    "from nltk.corpus import stopwords\n",
    "from nltk.stem import PorterStemmer\n",
    "from nltk.stem import WordNetLemmatizer\n",
    "import pandas as pd\n"
   ]
  },
  {
   "cell_type": "code",
   "execution_count": 2,
   "id": "8ac74d03",
   "metadata": {},
   "outputs": [],
   "source": [
    "# load data from Spam Assassin\n",
    "easy_ham = glob.glob('easy_ham/*') \n",
    "'''easy_ham: \n",
    "   2500 non-spam messages. Typically easy to differentiate from spam.\n",
    "   They frequently do not contain any spammish signatures (like HTML etc).'''\n",
    "\n",
    "easy_ham_2 = glob.glob('easy_ham_2/*')\n",
    "'''1400 non-spam messages.  A more recent addition to the set.'''\n",
    "\n",
    "hard_ham = glob.glob('hard_ham/*')\n",
    "'''250 non-spam messages which are closer in many respects to typical spam.\n",
    "   Ex) use of HTML, unusual HTML markup, coloured text, \"spammish-sounding\" \n",
    "   phrases etc.'''\n",
    "\n",
    "spam = glob.glob('spam/*')\n",
    "'''500 spam messages, all received from non-spam-trap sources.'''\n",
    "\n",
    "spam_2 = glob.glob('spam_2/*')\n",
    "'''1397 spam messages.  Again, more recent.'''\n",
    "\n",
    "'''combined data into two for easier handling'''\n",
    "non_spam_email = [easy_ham, easy_ham_2, hard_ham]\n",
    "spam_email = [spam, spam_2] "
   ]
  },
  {
   "cell_type": "code",
   "execution_count": 3,
   "id": "74eb5171",
   "metadata": {},
   "outputs": [],
   "source": [
    "'''Definitions'''\n",
    "def split_data(data):\n",
    "    train_data = np.array([])\n",
    "    test_data = np.array([])\n",
    "    for i in data:\n",
    "        train_data = np.concatenate((train_data,i[0]), axis=0)\n",
    "        test_data = np.concatenate((test_data,i[1]), axis=0)\n",
    "        \n",
    "    return train_data, test_data\n"
   ]
  },
  {
   "cell_type": "code",
   "execution_count": 4,
   "id": "ff51a0dd",
   "metadata": {},
   "outputs": [],
   "source": [
    "def shuffle_and_get_data(data):\n",
    "    shuffle_data_idx = np.random.randint(low=0, high=len(data)-1, size=len(data))\n",
    "    ret_data = data[shuffle_data_idx]\n",
    "    return ret_data\n"
   ]
  },
  {
   "cell_type": "code",
   "execution_count": 5,
   "id": "6dcd3ed0",
   "metadata": {},
   "outputs": [],
   "source": [
    "def get_email_content(data): #from huai99\n",
    "    email_content = []\n",
    "    for i in data:\n",
    "        file = open(i, encoding = 'latin1')\n",
    "        try:\n",
    "            message = email.message_from_file(file)\n",
    "            for part in message.walk():\n",
    "                if part.get_content_type() == 'text/plain':\n",
    "                    email_content.append(part.get_payload())\n",
    "                \n",
    "        except Exception as e:\n",
    "            print(e)\n",
    "    return email_content\n"
   ]
  },
  {
   "cell_type": "code",
   "execution_count": 6,
   "id": "e3ac30c4",
   "metadata": {},
   "outputs": [],
   "source": [
    "\n",
    "def clean_up(content): #borrowed from huai99, but altered\n",
    "    content = re.sub(r\"http\\S+\",\"\",content) #remove hyperlink\n",
    "    content = content.lower() #change to lower case\n",
    "    content = re.sub(r'\\d+',\" \", content) #remove number\n",
    "    content = re.sub(r\"[^a-zA-Z0-9]\",\" \", content) # remove all characters that are not alphanumeric \n",
    "    content = re.sub(r\"\\b[a-zA-Z]\\b\", \" \", content) # remove all single letters\n",
    "    content = content.replace('\\n','')\n",
    "    \n",
    "    return content\n"
   ]
  },
  {
   "cell_type": "code",
   "execution_count": 7,
   "id": "781bc980",
   "metadata": {},
   "outputs": [],
   "source": [
    "def remove_stopwords(content):\n",
    "    '''['i', 'me', 'my', 'myself', 'we', 'our', 'ours', 'ourselves', 'you', \n",
    "    \"you're\", \"you've\", \"you'll\", \"you'd\", 'your', 'yours', 'yourself', 'yourselves', \n",
    "    'he', 'him', 'his', 'himself', 'she', \"she's\", 'her', 'hers', 'herself', 'it', \n",
    "    \"it's\", 'its', 'itself', 'they', 'them', 'their', 'theirs', 'themselves', 'what', \n",
    "    'which', 'who', 'whom', 'this', 'that', \"that'll\", 'these', 'those', 'am', 'is', \n",
    "    'are', 'was', 'were', 'be', 'been', 'being', 'have', 'has', 'had', 'having', 'do',\n",
    "    'does', 'did', 'doing', 'a', 'an', 'the', 'and', 'but', 'if', 'or', 'because', \n",
    "    'as', 'until', 'while', 'of', 'at', 'by', 'for', 'with', 'about', 'against', \n",
    "    'between', 'into', 'through', 'during', 'before', 'after', 'above', 'below', \n",
    "    'to', 'from', 'up', 'down', 'in', 'out', 'on', 'off', 'over', 'under', 'again', \n",
    "    'further', 'then', 'once', 'here', 'there', 'when', 'where', 'why', 'how', 'all', \n",
    "    'any', 'both', 'each', 'few', 'more', 'most', 'other', 'some', 'such', 'no', \n",
    "    'nor', 'not', 'only', 'own', 'same', 'so', 'than', 'too', 'very', 's', 't', \n",
    "    'can', 'will', 'just', 'don', \"don't\", 'should', \"should've\", 'now', 'd', 'll', \n",
    "    'm', 'o', 're', 've', 'y', 'ain', 'aren', \"aren't\", 'couldn', \"couldn't\", 'didn',\n",
    "    \"didn't\", 'doesn', \"doesn't\", 'hadn', \"hadn't\", 'hasn', \"hasn't\", 'haven', \n",
    "    \"haven't\", 'isn', \"isn't\", 'ma', 'mightn', \"mightn't\", 'mustn', \"mustn't\", \n",
    "    'needn', \"needn't\", 'shan', \"shan't\", 'shouldn', \"shouldn't\", 'wasn', \"wasn't\", \n",
    "    'weren', \"weren't\", 'won', \"won't\", 'wouldn', \"wouldn't\"]'''\n",
    "    sentence = [word for word in content if not word in stopwords.words('english')]\n",
    "    return sentence\n",
    "\n",
    "stemmer = PorterStemmer()\n",
    "lemmatizer = WordNetLemmatizer()\n",
    "\n"
   ]
  },
  {
   "cell_type": "code",
   "execution_count": 8,
   "id": "6d90df69",
   "metadata": {},
   "outputs": [],
   "source": [
    "def do_lemmatization(content): \n",
    "    sentence = [lemmatizer.lemmatize(i) for i in content]\n",
    "    \n",
    "    return sentence"
   ]
  },
  {
   "cell_type": "code",
   "execution_count": 9,
   "id": "44b23e76",
   "metadata": {},
   "outputs": [
    {
     "name": "stderr",
     "output_type": "stream",
     "text": [
      "C:\\Users\\RKGOD\\anaconda3\\lib\\site-packages\\numpy\\core\\_asarray.py:102: VisibleDeprecationWarning: Creating an ndarray from ragged nested sequences (which is a list-or-tuple of lists-or-tuples-or ndarrays with different lengths or shapes) is deprecated. If you meant to do this, you must specify 'dtype=object' when creating the ndarray.\n",
      "  return array(a, dtype, copy=False, order=order)\n"
     ]
    }
   ],
   "source": [
    "#split data into training and test subsets\n",
    "ns_data = np.asarray([train_test_split(i) for i in non_spam_email])\n",
    "s_data = np.asarray([train_test_split(i) for i in spam_email])\n",
    "\n",
    "ns_train, ns_test = split_data(ns_data)\n",
    "s_train, s_test = split_data(s_data)\n",
    "\n",
    "ns_train = ns_train.reshape(len(ns_train),)\n",
    "ns_test = ns_test.reshape(len(ns_test),)\n",
    "s_train = s_train.reshape(len(s_train),)\n",
    "s_test = s_test.reshape(len(s_test),)\n"
   ]
  },
  {
   "cell_type": "code",
   "execution_count": 10,
   "id": "ae1a5c16",
   "metadata": {},
   "outputs": [],
   "source": [
    "# #get email content\n",
    "ns_train_emails = get_email_content(ns_train)\n",
    "ns_test_emails = get_email_content(ns_test)\n",
    "s_train_emails = get_email_content(s_train)\n",
    "s_test_emails = get_email_content(s_test)\n",
    "\n",
    "#clean up email content and tokenize - round 1\n",
    "ns_train_emails_cleaned = [clean_up(i) for i in ns_train_emails]\n",
    "ns_test_emails_cleaned = [clean_up(i) for i in ns_test_emails]\n",
    "s_train_emails_cleaned = [clean_up(i) for i in s_train_emails]\n",
    "s_test_emails_cleaned = [clean_up(i) for i in s_test_emails]\n",
    "\n",
    "ns_train_emails_cleaned = [i.split() for i in ns_train_emails_cleaned]\n",
    "ns_test_emails_cleaned = [i.split() for i in ns_test_emails_cleaned]\n",
    "s_train_emails_cleaned = [i.split() for i in s_train_emails_cleaned]\n",
    "s_test_emails_cleaned = [i.split() for i in s_test_emails_cleaned]\n"
   ]
  },
  {
   "cell_type": "code",
   "execution_count": 11,
   "id": "900766ee",
   "metadata": {},
   "outputs": [],
   "source": [
    "#clean up email - round 2 - remove stop words and lemmatize\n",
    "'''Lemmatization = It looks beyond word reduction and considers a language’s \n",
    "full vocabulary to apply a morphological analysis to words, aiming to remove \n",
    "inflectional endings only and to return the base or dictionary form of a word, \n",
    "which is known as the lemma.'''\n",
    "\n",
    "ns_train_emails_cleaned = [remove_stopwords(i) for i in ns_train_emails_cleaned]\n",
    "ns_test_emails_cleaned = [remove_stopwords(i) for i in ns_test_emails_cleaned]\n",
    "s_train_emails_cleaned = [remove_stopwords(i) for i in s_train_emails_cleaned]\n",
    "s_test_emails_cleaned = [remove_stopwords(i) for i in s_test_emails_cleaned]\n",
    "\n",
    "ns_train_emails_cleaned = [do_lemmatization(i) for i in ns_train_emails_cleaned]\n",
    "ns_test_emails_cleaned = [do_lemmatization(i) for i in ns_test_emails_cleaned]\n",
    "s_train_emails_cleaned = [do_lemmatization(i) for i in s_train_emails_cleaned]\n",
    "s_test_emails_cleaned = [do_lemmatization(i) for i in s_test_emails_cleaned]\n",
    "\n",
    "ns_train_emails_cleaned = [\" \".join(o) for o in ns_train_emails_cleaned]\n",
    "ns_test_emails_cleaned = [\" \".join(o) for o in ns_test_emails_cleaned]\n",
    "s_train_emails_cleaned = [\" \".join(o) for o in s_train_emails_cleaned]\n",
    "s_test_emails_cleaned = [\" \".join(o) for o in s_test_emails_cleaned]\n"
   ]
  },
  {
   "cell_type": "code",
   "execution_count": 12,
   "id": "a183b740",
   "metadata": {},
   "outputs": [],
   "source": [
    "#for visualization - bargraph\n",
    "ns_train_emails_cleaned = np.asarray(ns_train_emails_cleaned).reshape(len(ns_train_emails_cleaned),1)\n",
    "ns_test_emails_cleaned = np.asarray(ns_test_emails_cleaned).reshape(len(ns_test_emails_cleaned),1)\n",
    "s_train_emails_cleaned = np.asarray(s_train_emails_cleaned).reshape(len(s_train_emails_cleaned),1)\n",
    "s_test_emails_cleaned = np.asarray(s_test_emails_cleaned).reshape(len(s_test_emails_cleaned),1)\n",
    "\n",
    "ns = np.concatenate((ns_train_emails_cleaned, ns_test_emails_cleaned))\n",
    "s = np.concatenate((s_train_emails_cleaned, s_test_emails_cleaned))\n",
    "\n",
    "ns_df = pd.DataFrame(ns)\n",
    "ns_df.to_csv('ns_data.txt', header=False, index=False)\n",
    "\n",
    "s_df = pd.DataFrame(s)\n",
    "s_df.to_csv('s_data.txt', header=False, index=False)"
   ]
  },
  {
   "cell_type": "markdown",
   "id": "ffcd7206",
   "metadata": {},
   "source": [
    "## Visualization"
   ]
  },
  {
   "cell_type": "code",
   "execution_count": 13,
   "id": "c0fdfabd",
   "metadata": {},
   "outputs": [],
   "source": [
    "import pandas as pd\n",
    "import matplotlib.pyplot as plt\n",
    "from collections import Counter\n"
   ]
  },
  {
   "cell_type": "code",
   "execution_count": 14,
   "id": "1c9f8f8c",
   "metadata": {},
   "outputs": [],
   "source": [
    "#load processed data\n",
    "ns_df = pd.read_csv('ns_data.txt', header=None, keep_default_na=False)\n",
    "s_df = pd.read_csv('s_data.txt',header=None, keep_default_na=False)\n",
    "\n",
    "ns_df = pd.DataFrame.to_numpy(ns_df)\n",
    "s_df = pd.DataFrame.to_numpy(s_df) \n",
    "\n",
    "ns_df = ns_df.ravel()\n",
    "s_df = s_df.ravel()\n",
    "\n",
    "ns_d = dict()\n",
    "s_d = dict()\n"
   ]
  },
  {
   "cell_type": "code",
   "execution_count": 15,
   "id": "338bb8f7",
   "metadata": {},
   "outputs": [],
   "source": [
    "def get_dict_and_count(data):\n",
    "    d = dict()\n",
    "    for i in range(len(data)):\n",
    "        sentence = data[i].split()\n",
    "        #iterate over each word in line\n",
    "        for word in sentence:\n",
    "            #check if  word is already in dictionary\n",
    "            if word in d:\n",
    "                # increment count of word by 1\n",
    "                d[word] = d[word] + 1\n",
    "                #print(ns_d[word])\n",
    "            else:\n",
    "                # Add the word to dictionary with count 1\n",
    "                d[word] = 1\n",
    "    return d\n",
    "\n",
    "top = 20"
   ]
  },
  {
   "cell_type": "code",
   "execution_count": 16,
   "id": "e0032512",
   "metadata": {},
   "outputs": [],
   "source": [
    "def most_common(dictionary):\n",
    "    dict_counter = Counter(dictionary)\n",
    "    \n",
    "    #find top 20 most common\n",
    "    most_common = dict_counter.most_common(top) #this is a list\n",
    "    most_common_dict = dict(most_common) #transorm back to dict\n",
    "    return most_common_dict\n",
    "    "
   ]
  },
  {
   "cell_type": "code",
   "execution_count": 17,
   "id": "5d85e2f2",
   "metadata": {},
   "outputs": [],
   "source": [
    "def visualize_barh(dictionary, name):\n",
    "    words = list(dictionary.keys())\n",
    "    values = list(dictionary.values())\n",
    "      \n",
    "    fig = plt.figure(figsize=(10, 8))\n",
    "      \n",
    "    # creating the bar plot\n",
    "    plt.barh(words, values, color='sienna', align='center')\n",
    "      \n",
    "    plt.xlabel(\"No. of Occurrences\", fontsize=15)\n",
    "    plt.ylabel(\"Token\", fontsize=15)\n",
    "    plt.xticks(fontsize=18)\n",
    "    plt.yticks(fontsize=18)\n",
    "    #plt.title(\"Most Common Tokenized Word in %s Emails\" %(name), fontsize=20)\n",
    "    plt.show()\n",
    "    return fig\n"
   ]
  },
  {
   "cell_type": "code",
   "execution_count": 18,
   "id": "857a8b98",
   "metadata": {},
   "outputs": [
    {
     "data": {
      "image/png": "[encoded data removed]",
      "text/plain": [
       "<Figure size 720x576 with 1 Axes>"
      ]
     },
     "metadata": {
      "needs_background": "light"
     },
     "output_type": "display_data"
    }
   ],
   "source": [
    "ns_dict = get_dict_and_count(ns_df)\n",
    "ns_mostcommon = most_common(ns_dict)\n",
    "ns_fig = visualize_barh(ns_mostcommon, name='Non-Spam')\n",
    "ns_fig.savefig('ns_mostcommon.png')\n"
   ]
  },
  {
   "cell_type": "code",
   "execution_count": 19,
   "id": "b2cbbb1e",
   "metadata": {},
   "outputs": [
    {
     "data": {
      "image/png": "[encoded data removed]",
      "text/plain": [
       "<Figure size 720x576 with 1 Axes>"
      ]
     },
     "metadata": {
      "needs_background": "light"
     },
     "output_type": "display_data"
    }
   ],
   "source": [
    "s_dict = get_dict_and_count(s_df)\n",
    "s_mostcommon = most_common(s_dict)\n",
    "s_fig = visualize_barh(s_mostcommon, name='Spam')\n",
    "s_fig.savefig('s_mostcommon.png')"
   ]
  },
  {
   "cell_type": "markdown",
   "id": "8bbf746f",
   "metadata": {},
   "source": [
    "## Naive Bayes"
   ]
  },
  {
   "cell_type": "code",
   "execution_count": 20,
   "id": "ec7a0180",
   "metadata": {},
   "outputs": [],
   "source": [
    "import pandas as pd\n",
    "\n",
    "from sklearn.feature_extraction.text import CountVectorizer\n",
    "from sklearn.feature_extraction.text import TfidfVectorizer\n",
    "\n",
    "from sklearn.naive_bayes import GaussianNB\n",
    "\n",
    "from sklearn.metrics import confusion_matrix, precision_score,recall_score, f1_score\n",
    "from sklearn.metrics import plot_confusion_matrix\n",
    "from sklearn.model_selection import train_test_split\n",
    "import matplotlib.pyplot as plt\n"
   ]
  },
  {
   "cell_type": "code",
   "execution_count": 21,
   "id": "3c53d579",
   "metadata": {},
   "outputs": [],
   "source": [
    "#load in data\n",
    "data = pd.read_csv('all_data.txt', header=None, keep_default_na=False)\n",
    "data = data.to_numpy()\n",
    "X = data[:,0].astype('str')\n",
    "y = data[:,1].astype('int')"
   ]
  },
  {
   "cell_type": "code",
   "execution_count": 22,
   "id": "6b6d81f0",
   "metadata": {},
   "outputs": [],
   "source": [
    "'''TfidfVectorizer and CountVectorizer both are methods for converting text data \n",
    "into vectors as model can process only numerical data. In CountVectorizer we \n",
    "only count the number of times a word appears in the document which results in \n",
    "biasing in favour of most frequent words. this ends up in ignoring rare words \n",
    "which could have helped is in processing our data more efficiently.\n",
    "\n",
    "To overcome this , we use TfidfVectorizer. In TfidfVectorizer we consider \n",
    "overall document weightage of a word. It helps us in dealing with most frequent \n",
    "words. Using it we can penalize them. TfidfVectorizer weights the word counts \n",
    "by a measure of how often they appear in the documents.'''\n",
    "\n",
    "def perform_CV(X):\n",
    "    CV_vect = CountVectorizer() #Convert a collection of text documents to a matrix of token counts\n",
    "    X_CV = CV_vect.fit(X)\n",
    "    X_CV = CV_vect.transform(X).toarray()    \n",
    "    return X_CV\n"
   ]
  },
  {
   "cell_type": "code",
   "execution_count": 23,
   "id": "4094ef51",
   "metadata": {},
   "outputs": [],
   "source": [
    "def perform_TFIDF(X):\n",
    "    TFIDF_vect = TfidfVectorizer() #Convert a collection of text documents to a matrix of token counts\n",
    "    X_TFIDF = TFIDF_vect.fit(X)\n",
    "    X_TFIDF = TFIDF_vect.transform(X).toarray()    \n",
    "    return X_TFIDF"
   ]
  },
  {
   "cell_type": "code",
   "execution_count": 24,
   "id": "089563c0",
   "metadata": {},
   "outputs": [],
   "source": [
    "def naive_bayes(X, y, title): #Gaussian Naive Bayes\n",
    "    X_train, X_test, y_train, y_test = train_test_split(X,y)\n",
    "    \n",
    "    NB_clf = GaussianNB()\n",
    "    NB_clf.fit(X_train, y_train) #train\n",
    "    NB_train_score = NB_clf.score(X_train, y_train) #get scoring strength\n",
    "    \n",
    "    NB_test_score = NB_clf.score(X_test, y_test)\n",
    "    NB_predictions = NB_clf.predict(X_test)\n",
    "    \n",
    "    #moment of truth\n",
    "    tn, fp, fn, tp = confusion_matrix(y_test,NB_predictions).ravel()\n",
    "    precision = precision_score(y_test, NB_predictions)\n",
    "    recall = recall_score(y_test, NB_predictions)\n",
    "    f1score = f1_score(y_test, NB_predictions)\n",
    "    print(title)\n",
    "    print(\"Precision: {:.2f}%\".format(100 * precision))\n",
    "    print(\"Recall: {:.2f}%\".format(100 * recall))\n",
    "    print(\"F1 Score: {:.2f}%\".format(100 * f1score))\n",
    "    \n",
    "    #graph confusion matrix\n",
    "    labels =['Non-Spam', 'Spam']\n",
    "    fig = plot_confusion_matrix(NB_clf, X_test, y_test, cmap=plt.cm.Blues, display_labels=labels) \n",
    "    #fig.ax_.set_title('Confusion Matrix - %s' %(title))\n",
    "    \n",
    "    save(NB_train_score, NB_test_score, tn, fp, fn, tp, precision, recall, f1score, title)\n",
    "    "
   ]
  },
  {
   "cell_type": "code",
   "execution_count": 25,
   "id": "90406a9b",
   "metadata": {},
   "outputs": [],
   "source": [
    "def save(NB_train_score, NB_test_score, tn, fp, fn, tp, precision, recall, f1score, title):\n",
    "    NB_save = {'Type': ['NB_train_score', 'NB_test_score', 'TN', 'FP', 'FN', 'TP', 'Precision', 'Recall', 'F1 Score'],\n",
    "        'Value': [NB_train_score, NB_test_score, tn, fp, fn, tp, precision, recall, f1score]}\n",
    "    NB_df = pd.DataFrame(NB_save, columns=['Type','Value'])\n",
    "    NB_df.to_csv(title + '.txt', index=False)\n"
   ]
  },
  {
   "cell_type": "code",
   "execution_count": 31,
   "id": "ad9ba716",
   "metadata": {},
   "outputs": [
    {
     "name": "stdout",
     "output_type": "stream",
     "text": [
      "Naive Bayes with CountVectorizer\n",
      "Precision: 86.75%\n",
      "Recall: 90.00%\n",
      "F1 Score: 88.34%\n"
     ]
    },
    {
     "data": {
      "image/png": "[encoded data removed]",
      "text/plain": [
       "<Figure size 432x288 with 2 Axes>"
      ]
     },
     "metadata": {
      "needs_background": "light"
     },
     "output_type": "display_data"
    }
   ],
   "source": [
    "X_CV = perform_CV(X)\n",
    "naive_bayes(X_CV,y,title='Naive Bayes with CountVectorizer')\n"
   ]
  },
  {
   "cell_type": "code",
   "execution_count": 32,
   "id": "bf3fc546",
   "metadata": {},
   "outputs": [
    {
     "name": "stdout",
     "output_type": "stream",
     "text": [
      "Naive Bayes with TfidfVectorizer\n",
      "Precision: 89.57%\n",
      "Recall: 93.26%\n",
      "F1 Score: 91.38%\n"
     ]
    },
    {
     "data": {
      "image/png": "[encoded data removed]",
      "text/plain": [
       "<Figure size 432x288 with 2 Axes>"
      ]
     },
     "metadata": {
      "needs_background": "light"
     },
     "output_type": "display_data"
    }
   ],
   "source": [
    "X_TFIDF = perform_TFIDF(X)\n",
    "naive_bayes(X_TFIDF,y,title='Naive Bayes with TfidfVectorizer')"
   ]
  },
  {
   "cell_type": "markdown",
   "id": "e0cb67ad",
   "metadata": {},
   "source": [
    "## Deep Learning"
   ]
  },
  {
   "cell_type": "code",
   "execution_count": 33,
   "id": "ff175801",
   "metadata": {},
   "outputs": [],
   "source": [
    "import numpy as np\n",
    "import pandas as pd\n",
    "import matplotlib.pyplot as plt\n",
    "from sklearn.model_selection import train_test_split\n",
    "from sklearn.metrics import confusion_matrix, precision_score,recall_score, f1_score\n",
    "\n",
    "import tensorflow as tf\n",
    "from tensorflow.keras.preprocessing.text import Tokenizer\n",
    "from tensorflow.keras.preprocessing.sequence import pad_sequences\n",
    "from tensorflow.keras.callbacks import EarlyStopping\n",
    "from tensorflow.keras.models import Sequential\n",
    "from tensorflow.keras.layers import Embedding, GlobalAveragePooling1D, Dense, Dropout, LSTM, Bidirectional\n",
    "import itertools\n"
   ]
  },
  {
   "cell_type": "code",
   "execution_count": 34,
   "id": "22e4dece",
   "metadata": {},
   "outputs": [],
   "source": [
    "#load in data\n",
    "data = pd.read_csv('all_data.txt', header=None, keep_default_na=False)\n",
    "data = data.to_numpy()\n",
    "X = data[:,0].astype('str')\n",
    "y = data[:,1].astype('int')"
   ]
  },
  {
   "cell_type": "code",
   "execution_count": 35,
   "id": "3d986cd4",
   "metadata": {},
   "outputs": [],
   "source": [
    "#split data into training and test\n",
    "X_train, X_test, y_train, y_test = train_test_split(X,y)\n"
   ]
  },
  {
   "cell_type": "code",
   "execution_count": 36,
   "id": "b4a63363",
   "metadata": {},
   "outputs": [],
   "source": [
    "#pre hyperparameters\n",
    "# file = 'glove.6B.300d.txt'\n",
    "# def get_coefs(word,*arr): #from huai99\n",
    "#     return word, np.asarray(arr, dtype='float32')\n",
    "# embeddings_index = dict(get_coefs(*o.split(\" \")) for o in open(file))\n",
    "\n",
    "# all_embs = np.stack(embeddings_index.values())\n",
    "# emb_mean,emb_std = all_embs.mean(), all_embs.std()\n",
    "# embed_size = all_embs.shape[1]\n",
    "\n",
    "embed_size = 100 # how big is each word vector\n",
    "max_feature = 50000 # how many unique words to use (i.e num rows in embedding vector)\n",
    "max_len = 2000 # max number of words in a sentence to use\n",
    "drop_val = 0.2\n",
    "num_epochs = 30\n",
    "max_words = 40000"
   ]
  },
  {
   "cell_type": "code",
   "execution_count": 37,
   "id": "5518c461",
   "metadata": {},
   "outputs": [],
   "source": [
    "# embed_size = 300 # how big is each word vector\n",
    "# max_feature = 50000 # how many unique words to use (i.e num rows in embedding vector)\n",
    "# max_len = 2000 # max number of words in a sentence to use\n",
    "# drop_val = 0.1\n",
    "# num_epochs = 30\n",
    "# max_words = 40000\n",
    "\n",
    "# for i in X_train:\n",
    "#     cur_len = len(i)\n",
    "#     if cur_len > max_len:\n",
    "#         max_len = cur_len\n",
    "\n",
    "tokenizer = Tokenizer(num_words=max_words)\n",
    "tokenizer.fit_on_texts(X_train)\n",
    "\n",
    "word_idx = tokenizer.word_index\n",
    "tot_words = len(word_idx)\n",
    "\n",
    "X_train_seq = tokenizer.texts_to_sequences(X_train)\n",
    "X_train_pad = pad_sequences(X_train_seq, maxlen=max_len)\n",
    "X_test_seq = tokenizer.texts_to_sequences(X_test)\n",
    "X_test_pad = pad_sequences(X_test_seq, maxlen=max_len)\n"
   ]
  },
  {
   "cell_type": "code",
   "execution_count": 38,
   "id": "c4766e9b",
   "metadata": {},
   "outputs": [
    {
     "name": "stdout",
     "output_type": "stream",
     "text": [
      "Model: \"sequential\"\n",
      "_________________________________________________________________\n",
      " Layer (type)                Output Shape              Param #   \n",
      "=================================================================\n",
      " embedding (Embedding)       (None, 2000, 100)         5000000   \n",
      "                                                                 \n",
      " global_average_pooling1d (G  (None, 100)              0         \n",
      " lobalAveragePooling1D)                                          \n",
      "                                                                 \n",
      " dense (Dense)               (None, 24)                2424      \n",
      "                                                                 \n",
      " dropout (Dropout)           (None, 24)                0         \n",
      "                                                                 \n",
      " dense_1 (Dense)             (None, 1)                 25        \n",
      "                                                                 \n",
      "=================================================================\n",
      "Total params: 5,002,449\n",
      "Trainable params: 5,002,449\n",
      "Non-trainable params: 0\n",
      "_________________________________________________________________\n"
     ]
    }
   ],
   "source": [
    "#Dense Architecture\n",
    "model = Sequential()\n",
    "model.add(Embedding(input_dim=max_feature, output_dim=embed_size, input_length=max_len))\n",
    "model.add(GlobalAveragePooling1D())\n",
    "model.add(Dense(24, activation='relu'))\n",
    "model.add(Dropout(drop_val))\n",
    "model.add(Dense(1, activation='sigmoid'))\n",
    "model.compile(loss='binary_crossentropy',optimizer='adam' ,metrics=['accuracy'])\n",
    "'''use ‘binary_crossentropy’ as a loss function because of binary output, \n",
    "‘adam’ as an optimiser which makes use of momentum to avoid local minima and \n",
    "‘accuracy’ as a measure of model performance.'''\n",
    "\n",
    "model.summary()\n"
   ]
  },
  {
   "cell_type": "code",
   "execution_count": 39,
   "id": "0e60b281",
   "metadata": {},
   "outputs": [
    {
     "name": "stdout",
     "output_type": "stream",
     "text": [
      "Epoch 1/30\n",
      "120/120 [==============================] - 12s 89ms/step - loss: 0.5441 - accuracy: 0.7773 - val_loss: 0.4844 - val_accuracy: 0.8033\n",
      "Epoch 2/30\n",
      "120/120 [==============================] - 9s 76ms/step - loss: 0.4884 - accuracy: 0.7956 - val_loss: 0.4655 - val_accuracy: 0.8111\n",
      "Epoch 3/30\n",
      "120/120 [==============================] - 9s 79ms/step - loss: 0.4522 - accuracy: 0.8066 - val_loss: 0.4057 - val_accuracy: 0.8229\n",
      "Epoch 4/30\n",
      "120/120 [==============================] - 11s 90ms/step - loss: 0.3594 - accuracy: 0.8440 - val_loss: 0.2999 - val_accuracy: 0.8762\n",
      "Epoch 5/30\n",
      "120/120 [==============================] - 10s 83ms/step - loss: 0.2487 - accuracy: 0.9009 - val_loss: 0.2030 - val_accuracy: 0.9295\n",
      "Epoch 6/30\n",
      "120/120 [==============================] - 9s 78ms/step - loss: 0.1652 - accuracy: 0.9449 - val_loss: 0.1429 - val_accuracy: 0.9522\n",
      "Epoch 7/30\n",
      "120/120 [==============================] - 11s 92ms/step - loss: 0.1242 - accuracy: 0.9621 - val_loss: 0.1144 - val_accuracy: 0.9569\n",
      "Epoch 8/30\n",
      "120/120 [==============================] - 11s 89ms/step - loss: 0.0976 - accuracy: 0.9726 - val_loss: 0.0886 - val_accuracy: 0.9749\n",
      "Epoch 9/30\n",
      "120/120 [==============================] - 9s 78ms/step - loss: 0.0754 - accuracy: 0.9778 - val_loss: 0.0745 - val_accuracy: 0.9757\n",
      "Epoch 10/30\n",
      "120/120 [==============================] - 10s 83ms/step - loss: 0.0647 - accuracy: 0.9786 - val_loss: 0.0628 - val_accuracy: 0.9851\n",
      "Epoch 11/30\n",
      "120/120 [==============================] - 9s 78ms/step - loss: 0.0500 - accuracy: 0.9875 - val_loss: 0.0632 - val_accuracy: 0.9757\n",
      "Epoch 12/30\n",
      "120/120 [==============================] - 9s 77ms/step - loss: 0.0434 - accuracy: 0.9893 - val_loss: 0.0567 - val_accuracy: 0.9796\n",
      "Epoch 13/30\n",
      "120/120 [==============================] - 9s 78ms/step - loss: 0.0383 - accuracy: 0.9903 - val_loss: 0.0479 - val_accuracy: 0.9859\n",
      "Epoch 14/30\n",
      "120/120 [==============================] - 9s 78ms/step - loss: 0.0344 - accuracy: 0.9922 - val_loss: 0.0439 - val_accuracy: 0.9882\n",
      "Epoch 15/30\n",
      "120/120 [==============================] - 9s 77ms/step - loss: 0.0296 - accuracy: 0.9929 - val_loss: 0.0417 - val_accuracy: 0.9882\n",
      "Epoch 16/30\n",
      "120/120 [==============================] - 9s 77ms/step - loss: 0.0297 - accuracy: 0.9932 - val_loss: 0.0404 - val_accuracy: 0.9875\n",
      "Epoch 17/30\n",
      "120/120 [==============================] - 9s 77ms/step - loss: 0.0231 - accuracy: 0.9935 - val_loss: 0.0390 - val_accuracy: 0.9898\n",
      "Epoch 18/30\n",
      "120/120 [==============================] - 9s 77ms/step - loss: 0.0245 - accuracy: 0.9927 - val_loss: 0.0397 - val_accuracy: 0.9875\n",
      "Epoch 19/30\n",
      "120/120 [==============================] - 9s 78ms/step - loss: 0.0211 - accuracy: 0.9940 - val_loss: 0.0374 - val_accuracy: 0.9890\n",
      "Epoch 20/30\n",
      "120/120 [==============================] - 9s 77ms/step - loss: 0.0189 - accuracy: 0.9950 - val_loss: 0.0371 - val_accuracy: 0.9906\n",
      "Epoch 21/30\n",
      "120/120 [==============================] - 9s 77ms/step - loss: 0.0191 - accuracy: 0.9950 - val_loss: 0.0371 - val_accuracy: 0.9890\n",
      "Epoch 22/30\n",
      "120/120 [==============================] - 9s 78ms/step - loss: 0.0174 - accuracy: 0.9956 - val_loss: 0.0375 - val_accuracy: 0.9929\n",
      "Epoch 23/30\n",
      "120/120 [==============================] - 9s 77ms/step - loss: 0.0157 - accuracy: 0.9950 - val_loss: 0.0413 - val_accuracy: 0.9882\n",
      "Epoch 24/30\n",
      "120/120 [==============================] - 9s 78ms/step - loss: 0.0153 - accuracy: 0.9969 - val_loss: 0.0391 - val_accuracy: 0.9875\n",
      "Epoch 25/30\n",
      "120/120 [==============================] - 9s 78ms/step - loss: 0.0120 - accuracy: 0.9969 - val_loss: 0.0370 - val_accuracy: 0.9906\n",
      "Epoch 26/30\n",
      "120/120 [==============================] - 9s 77ms/step - loss: 0.0165 - accuracy: 0.9956 - val_loss: 0.0545 - val_accuracy: 0.9898\n",
      "Epoch 27/30\n",
      "120/120 [==============================] - 9s 76ms/step - loss: 0.0118 - accuracy: 0.9971 - val_loss: 0.0442 - val_accuracy: 0.9875\n",
      "Epoch 28/30\n",
      "120/120 [==============================] - 9s 77ms/step - loss: 0.0122 - accuracy: 0.9966 - val_loss: 0.0392 - val_accuracy: 0.9937\n",
      "Epoch 29/30\n",
      "120/120 [==============================] - 9s 76ms/step - loss: 0.0123 - accuracy: 0.9953 - val_loss: 0.0371 - val_accuracy: 0.9922\n",
      "Epoch 30/30\n",
      "120/120 [==============================] - 19s 155ms/step - loss: 0.0113 - accuracy: 0.9966 - val_loss: 0.0406 - val_accuracy: 0.9929\n",
      "40/40 [==============================] - 1s 27ms/step - loss: 0.0406 - accuracy: 0.9929\n"
     ]
    }
   ],
   "source": [
    "# early_stop = EarlyStopping(monitor='val_loss', patience=3)\n",
    "#history = model.fit(X_train_pad, y_train, batch_size=512, epochs=num_epochs, validation_data=(X_test_pad, y_test), callbacks =[early_stop], verbose=2)\n",
    "history = model.fit(X_train_pad, y_train, epochs=num_epochs, validation_data=(X_test_pad, y_test))\n",
    "results  = model.evaluate(X_test_pad, y_test)\n"
   ]
  },
  {
   "cell_type": "code",
   "execution_count": 44,
   "id": "0420ca05",
   "metadata": {
    "scrolled": false
   },
   "outputs": [
    {
     "data": {
      "image/png": "[encoded data removed]",
      "text/plain": [
       "<Figure size 720x720 with 1 Axes>"
      ]
     },
     "metadata": {
      "needs_background": "light"
     },
     "output_type": "display_data"
    }
   ],
   "source": [
    "#plot\n",
    "fig1 = plt.figure(figsize=(10, 10))\n",
    "plt.plot(history.history['accuracy'], color = 'darkblue')\n",
    "plt.plot(history.history['val_accuracy'], color = 'sienna')\n",
    "#plt.title('Model Accuracy')\n",
    "plt.ylabel('accuracy', fontsize=18)\n",
    "plt.xlabel('epoch', fontsize=18)\n",
    "plt.yticks(fontsize=18)\n",
    "plt.xticks(fontsize=18)\n",
    "plt.legend(['train', 'test'], loc='best', fontsize=18)\n",
    "plt.show()\n",
    "fig1.savefig('DL_ModelAccuracy.png')\n",
    "\n"
   ]
  },
  {
   "cell_type": "code",
   "execution_count": 45,
   "id": "be3480f3",
   "metadata": {},
   "outputs": [
    {
     "data": {
      "image/png": "[encoded data removed]",
      "text/plain": [
       "<Figure size 720x720 with 1 Axes>"
      ]
     },
     "metadata": {
      "needs_background": "light"
     },
     "output_type": "display_data"
    }
   ],
   "source": [
    "\n",
    "fig2 = plt.figure(figsize=(10,10))\n",
    "plt.plot(history.history['loss'], color = 'darkblue')\n",
    "plt.plot(history.history['val_loss'], color = 'sienna')\n",
    "#plt.title('Model Loss')\n",
    "plt.ylabel('loss', fontsize=18)\n",
    "plt.xlabel('epoch', fontsize=18)\n",
    "plt.yticks(fontsize=18)\n",
    "plt.xticks(fontsize=18)\n",
    "plt.legend(['train', 'test'], loc='best', fontsize=18)\n",
    "plt.show()\n",
    "fig2.savefig('DL_ModelLoss.png')"
   ]
  },
  {
   "cell_type": "code",
   "execution_count": 41,
   "id": "dbea37b6",
   "metadata": {},
   "outputs": [
    {
     "name": "stdout",
     "output_type": "stream",
     "text": [
      "40/40 [==============================] - 1s 22ms/step\n",
      "Deep Learning\n",
      "Precision: 98.04%\n",
      "Recall: 98.43%\n",
      "F1 Score: 98.23%\n"
     ]
    }
   ],
   "source": [
    "# predict\n",
    "\n",
    "DL_predictions = [1.0 if i > 0.5 else 0.0 for i in model.predict(X_test_pad)]\n",
    "\n",
    "title = 'Deep Learning'\n",
    "cm = confusion_matrix(y_test,DL_predictions)\n",
    "tn, fp, fn, tp = confusion_matrix(y_test,DL_predictions).ravel()\n",
    "precision = precision_score(y_test, DL_predictions)\n",
    "recall = recall_score(y_test, DL_predictions)\n",
    "f1score = f1_score(y_test, DL_predictions)\n",
    "\n",
    "\n",
    "print(title)\n",
    "print(\"Precision: {:.2f}%\".format(100 * precision))\n",
    "print(\"Recall: {:.2f}%\".format(100 * recall))\n",
    "print(\"F1 Score: {:.2f}%\".format(100 * f1score))\n"
   ]
  },
  {
   "cell_type": "code",
   "execution_count": 42,
   "id": "ef9dac50",
   "metadata": {},
   "outputs": [
    {
     "name": "stdout",
     "output_type": "stream",
     "text": [
      "Confusion Matrix - Deep Learning\n",
      "[[1017    5]\n",
      " [   4  250]]\n"
     ]
    },
    {
     "data": {
      "image/png": "[encoded data removed]",
      "text/plain": [
       "<Figure size 432x288 with 2 Axes>"
      ]
     },
     "metadata": {
      "needs_background": "light"
     },
     "output_type": "display_data"
    }
   ],
   "source": [
    "#graph confusion matrix\n",
    "def plot_confusion_matrix(cm, classes,\n",
    "                          normalize=False,\n",
    "                          title=title,\n",
    "                          cmap=plt.cm.Blues):\n",
    "    \"\"\"\n",
    "    This function prints and plots the confusion matrix.\n",
    "    Normalization can be applied by setting `normalize=True`.\n",
    "    \"\"\"\n",
    "    if normalize:\n",
    "        cm = cm.astype('float') / cm.sum(axis=1)[:, np.newaxis]\n",
    "        print('Confusion Matrix - %s with Normalization' %(title))\n",
    "    else:\n",
    "        print('Confusion Matrix - %s' %(title))\n",
    "\n",
    "    print(cm)\n",
    "\n",
    "    plt.imshow(cm, interpolation='nearest', cmap=cmap)\n",
    "    #plt.title('Confusion Matrix - %s' %(title))\n",
    "    plt.colorbar()\n",
    "    tick_marks = np.arange(len(classes))\n",
    "    plt.xticks(tick_marks, classes)\n",
    "    plt.yticks(tick_marks, classes)\n",
    "\n",
    "    fmt = '.2f' if normalize else 'd'\n",
    "    thresh = cm.max() / 2.\n",
    "    for i, j in itertools.product(range(cm.shape[0]), range(cm.shape[1])):\n",
    "        plt.text(j, i, format(cm[i, j], fmt),\n",
    "                 horizontalalignment=\"center\",\n",
    "                 color=\"white\" if cm[i, j] > thresh else \"black\")\n",
    "\n",
    "    plt.ylabel('True label')\n",
    "    plt.xlabel('Predicted label')\n",
    "    plt.tight_layout()\n",
    "\n",
    "labels =['Non-Spam', 'Spam']\n",
    "plot_confusion_matrix(cm, labels) "
   ]
  },
  {
   "cell_type": "code",
   "execution_count": 43,
   "id": "f55fd639",
   "metadata": {},
   "outputs": [],
   "source": [
    "def save(tn, fp, fn, tp, precision, recall, f1score, title):\n",
    "    NB_save = {'Type': ['TN', 'FP', 'FN', 'TP', 'Precision', 'Recall', 'F1 Score'],\n",
    "        'Value': [tn, fp, fn, tp, precision, recall, f1score]}\n",
    "    NB_df = pd.DataFrame(NB_save, columns=['Type','Value'])\n",
    "    NB_df.to_csv(title + 'results.txt', index=False)\n",
    "\n",
    "save(tn, fp, fn, tp, precision, recall, f1score, title)"
   ]
  },
  {
   "cell_type": "code",
   "execution_count": null,
   "id": "1ece4c73",
   "metadata": {},
   "outputs": [],
   "source": []
  },
  {
   "cell_type": "code",
   "execution_count": null,
   "id": "6c84c92e",
   "metadata": {},
   "outputs": [],
   "source": []
  }
 ],
 "metadata": {
  "kernelspec": {
   "display_name": "Python 3 (ipykernel)",
   "language": "python",
   "name": "python3"
  },
  "language_info": {
   "codemirror_mode": {
    "name": "ipython",
    "version": 3
   },
   "file_extension": ".py",
   "mimetype": "text/x-python",
   "name": "python",
   "nbconvert_exporter": "python",
   "pygments_lexer": "ipython3",
   "version": "3.9.7"
  }
 },
 "nbformat": 4,
 "nbformat_minor": 5
}
